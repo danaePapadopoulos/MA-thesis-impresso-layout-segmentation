{
 "cells": [
  {
   "cell_type": "markdown",
   "metadata": {},
   "source": [
    "# Pages Sampling\n",
    "This notebook generates `samples` of pages from the full canonical data. These pages and their corresponding components (e.g. bounding boxes of images, tables, articles) will be used in train, validation and test sets for future finetuning of (layout) segmentation models."
   ]
  },
  {
   "cell_type": "code",
   "execution_count": 1,
   "metadata": {},
   "outputs": [],
   "source": [
    "import json\n",
    "import numpy as np\n",
    "import pandas as pd\n",
    "import matplotlib.pyplot as plt\n",
    "import seaborn as sns"
   ]
  },
  {
   "cell_type": "code",
   "execution_count": 2,
   "metadata": {},
   "outputs": [],
   "source": [
    "# sampling functions\n",
    "def strat_helper(df, N_sample, N, rand=1):\n",
    "    n = len(df)\n",
    "    n_sample = round(N_sample * n / N)\n",
    "    return df.sample(n_sample, random_state=rand)\n",
    "\n",
    "def stratified_sample(df, col, random_state=1, N_sample=50000):\n",
    "    return df.groupby(col, group_keys=False).apply(lambda x: strat_helper(x, N_sample, len(df), random_state)).reset_index(drop=True)\n",
    "\n",
    "def uniform_sample(df, col, random_state=1, n_sample=10000):\n",
    "    return df.groupby(col, group_keys=False).apply(lambda x: x.sample(n_sample, random_state=random_state) if len(x) > n_sample else x)"
   ]
  },
  {
   "cell_type": "markdown",
   "metadata": {},
   "source": [
    "### Load and Prepare Data for Sampling"
   ]
  },
  {
   "cell_type": "code",
   "execution_count": 3,
   "metadata": {},
   "outputs": [],
   "source": [
    "# read the parquet file as a dataframe\n",
    "issues_df = pd.read_parquet(\"../../data/data_preparation/issues_preprocessed.parquet.gzip\")"
   ]
  },
  {
   "cell_type": "code",
   "execution_count": 4,
   "metadata": {},
   "outputs": [],
   "source": [
    "# set month, year, decade\n",
    "issues_df[\"month\"] = issues_df[\"date\"].dt.to_period(\"M\")\n",
    "issues_df[\"year\"] = issues_df[\"date\"].dt.year\n",
    "issues_df[\"decade\"] = (issues_df[\"year\"] // 10) * 10"
   ]
  },
  {
   "cell_type": "code",
   "execution_count": 5,
   "metadata": {},
   "outputs": [],
   "source": [
    "# get page number\n",
    "issues_df[\"page_num\"] = issues_df[\"pp\"].apply(lambda x: int(x.split(\"-p\")[-1]))\n",
    "\n",
    "# assign page group\n",
    "def assign_page_group(page_number):\n",
    "    if page_number <= 8:\n",
    "        return str(page_number)\n",
    "    elif page_number <= 20:\n",
    "        return \"9-20\"\n",
    "    else:\n",
    "        return \"21+\"\n",
    "    \n",
    "issues_df[\"page_grp\"] = issues_df[\"page_num\"].apply(assign_page_group)"
   ]
  },
  {
   "cell_type": "code",
   "execution_count": 6,
   "metadata": {},
   "outputs": [
    {
     "data": {
      "text/html": [
       "<div>\n",
       "<style scoped>\n",
       "    .dataframe tbody tr th:only-of-type {\n",
       "        vertical-align: middle;\n",
       "    }\n",
       "\n",
       "    .dataframe tbody tr th {\n",
       "        vertical-align: top;\n",
       "    }\n",
       "\n",
       "    .dataframe thead th {\n",
       "        text-align: right;\n",
       "    }\n",
       "</style>\n",
       "<table border=\"1\" class=\"dataframe\">\n",
       "  <thead>\n",
       "    <tr style=\"text-align: right;\">\n",
       "      <th></th>\n",
       "      <th>journal</th>\n",
       "      <th>pp</th>\n",
       "      <th>date</th>\n",
       "      <th>month</th>\n",
       "      <th>year</th>\n",
       "      <th>decade</th>\n",
       "      <th>page_num</th>\n",
       "      <th>page_grp</th>\n",
       "    </tr>\n",
       "  </thead>\n",
       "  <tbody>\n",
       "    <tr>\n",
       "      <th>821421</th>\n",
       "      <td>jdpl</td>\n",
       "      <td>jdpl-1880-11-22-a-p0001</td>\n",
       "      <td>1880-11-22</td>\n",
       "      <td>1880-11</td>\n",
       "      <td>1880</td>\n",
       "      <td>1880</td>\n",
       "      <td>1</td>\n",
       "      <td>1</td>\n",
       "    </tr>\n",
       "    <tr>\n",
       "      <th>916961</th>\n",
       "      <td>indeplux</td>\n",
       "      <td>indeplux-1924-03-26-a-p0003</td>\n",
       "      <td>1924-03-26</td>\n",
       "      <td>1924-03</td>\n",
       "      <td>1924</td>\n",
       "      <td>1920</td>\n",
       "      <td>3</td>\n",
       "      <td>3</td>\n",
       "    </tr>\n",
       "    <tr>\n",
       "      <th>719441</th>\n",
       "      <td>luxwort</td>\n",
       "      <td>luxwort-1946-09-21-a-p0006</td>\n",
       "      <td>1946-09-21</td>\n",
       "      <td>1946-09</td>\n",
       "      <td>1946</td>\n",
       "      <td>1940</td>\n",
       "      <td>6</td>\n",
       "      <td>6</td>\n",
       "    </tr>\n",
       "    <tr>\n",
       "      <th>585885</th>\n",
       "      <td>lematin</td>\n",
       "      <td>lematin-1900-02-10-a-p0003</td>\n",
       "      <td>1900-02-10</td>\n",
       "      <td>1900-02</td>\n",
       "      <td>1900</td>\n",
       "      <td>1900</td>\n",
       "      <td>3</td>\n",
       "      <td>3</td>\n",
       "    </tr>\n",
       "    <tr>\n",
       "      <th>665692</th>\n",
       "      <td>lematin</td>\n",
       "      <td>lematin-1926-02-24-a-p0006</td>\n",
       "      <td>1926-02-24</td>\n",
       "      <td>1926-02</td>\n",
       "      <td>1926</td>\n",
       "      <td>1920</td>\n",
       "      <td>6</td>\n",
       "      <td>6</td>\n",
       "    </tr>\n",
       "  </tbody>\n",
       "</table>\n",
       "</div>"
      ],
      "text/plain": [
       "         journal                           pp       date    month  year  \\\n",
       "821421      jdpl      jdpl-1880-11-22-a-p0001 1880-11-22  1880-11  1880   \n",
       "916961  indeplux  indeplux-1924-03-26-a-p0003 1924-03-26  1924-03  1924   \n",
       "719441   luxwort   luxwort-1946-09-21-a-p0006 1946-09-21  1946-09  1946   \n",
       "585885   lematin   lematin-1900-02-10-a-p0003 1900-02-10  1900-02  1900   \n",
       "665692   lematin   lematin-1926-02-24-a-p0006 1926-02-24  1926-02  1926   \n",
       "\n",
       "        decade  page_num page_grp  \n",
       "821421    1880         1        1  \n",
       "916961    1920         3        3  \n",
       "719441    1940         6        6  \n",
       "585885    1900         3        3  \n",
       "665692    1920         6        6  "
      ]
     },
     "execution_count": 6,
     "metadata": {},
     "output_type": "execute_result"
    }
   ],
   "source": [
    "# get dataframe of unique pages to sample\n",
    "pages_df = issues_df[[\"journal\", \"pp\", \"date\", \"month\", \"year\", \"decade\", \"page_num\", \"page_grp\"]].drop_duplicates(subset=\"pp\")\n",
    "pages_df.sample(5)"
   ]
  },
  {
   "cell_type": "code",
   "execution_count": 7,
   "metadata": {},
   "outputs": [],
   "source": [
    "# remove journals based on pages preprocessing\n",
    "rm_journals = [\"tageblatt\"]\n",
    "pages_df = pages_df[~pages_df[\"journal\"].isin(rm_journals)]"
   ]
  },
  {
   "cell_type": "markdown",
   "metadata": {},
   "source": [
    "### Load Full Impresso Corpus Statistics"
   ]
  },
  {
   "cell_type": "code",
   "execution_count": 8,
   "metadata": {},
   "outputs": [
    {
     "name": "stdout",
     "output_type": "stream",
     "text": [
      "dict_keys(['mft_version', 'mft_generation_date', 'mft_s3_path', 'input_mft_s3_path', 'input_mft_git_path', 'code_git_commit', 'media_list', 'overall_statistics', 'notes'])\n"
     ]
    }
   ],
   "source": [
    "# path to the full impresso corpus metadata\n",
    "file_path = \"../../data/data_preparation/full_impresso_corpus/canonical_v4-5-0.json\"\n",
    "\n",
    "# open the JSON file and load it into a dictionary\n",
    "with open(file_path, 'r') as file:\n",
    "    impresso_data = json.load(file)\n",
    "    \n",
    "print(impresso_data.keys())"
   ]
  },
  {
   "cell_type": "code",
   "execution_count": 9,
   "metadata": {},
   "outputs": [],
   "source": [
    "# get all media in impresso corpus\n",
    "total_media = []\n",
    "for media in impresso_data[\"media_list\"]:\n",
    "    total_media.append(media[\"media_title\"])\n",
    "total_media = list(set(total_media))"
   ]
  },
  {
   "cell_type": "code",
   "execution_count": 10,
   "metadata": {},
   "outputs": [
    {
     "name": "stdout",
     "output_type": "stream",
     "text": [
      "36 media are selected in this project out of 134 from the full impresso corpus.\n"
     ]
    }
   ],
   "source": [
    "# get media of interest for this project\n",
    "media_of_interest = list(set(pages_df[\"journal\"]))\n",
    "print(f\"{len(media_of_interest)} media are selected in this project out of {len(total_media)} from the full impresso corpus.\")"
   ]
  },
  {
   "cell_type": "code",
   "execution_count": 11,
   "metadata": {},
   "outputs": [
    {
     "data": {
      "text/html": [
       "<div>\n",
       "<style scoped>\n",
       "    .dataframe tbody tr th:only-of-type {\n",
       "        vertical-align: middle;\n",
       "    }\n",
       "\n",
       "    .dataframe tbody tr th {\n",
       "        vertical-align: top;\n",
       "    }\n",
       "\n",
       "    .dataframe thead th {\n",
       "        text-align: right;\n",
       "    }\n",
       "</style>\n",
       "<table border=\"1\" class=\"dataframe\">\n",
       "  <thead>\n",
       "    <tr style=\"text-align: right;\">\n",
       "      <th></th>\n",
       "      <th>journal</th>\n",
       "      <th>element</th>\n",
       "      <th>issues</th>\n",
       "      <th>pages</th>\n",
       "      <th>content_items_out</th>\n",
       "      <th>images</th>\n",
       "    </tr>\n",
       "  </thead>\n",
       "  <tbody>\n",
       "    <tr>\n",
       "      <th>2153</th>\n",
       "      <td>NZG</td>\n",
       "      <td>NZG-1855</td>\n",
       "      <td>52</td>\n",
       "      <td>213</td>\n",
       "      <td>622</td>\n",
       "      <td>NaN</td>\n",
       "    </tr>\n",
       "    <tr>\n",
       "      <th>314</th>\n",
       "      <td>EXP</td>\n",
       "      <td>EXP-1974</td>\n",
       "      <td>301</td>\n",
       "      <td>8293</td>\n",
       "      <td>131764</td>\n",
       "      <td>10556.0</td>\n",
       "    </tr>\n",
       "    <tr>\n",
       "      <th>1190</th>\n",
       "      <td>IMP</td>\n",
       "      <td>IMP-1965</td>\n",
       "      <td>304</td>\n",
       "      <td>7225</td>\n",
       "      <td>82452</td>\n",
       "      <td>7658.0</td>\n",
       "    </tr>\n",
       "    <tr>\n",
       "      <th>351</th>\n",
       "      <td>EXP</td>\n",
       "      <td>EXP-2011</td>\n",
       "      <td>304</td>\n",
       "      <td>9862</td>\n",
       "      <td>86626</td>\n",
       "      <td>26966.0</td>\n",
       "    </tr>\n",
       "    <tr>\n",
       "      <th>1259</th>\n",
       "      <td>JDG</td>\n",
       "      <td>JDG-1838</td>\n",
       "      <td>85</td>\n",
       "      <td>366</td>\n",
       "      <td>1148</td>\n",
       "      <td>12.0</td>\n",
       "    </tr>\n",
       "  </tbody>\n",
       "</table>\n",
       "</div>"
      ],
      "text/plain": [
       "     journal   element  issues  pages  content_items_out   images\n",
       "2153     NZG  NZG-1855      52    213                622      NaN\n",
       "314      EXP  EXP-1974     301   8293             131764  10556.0\n",
       "1190     IMP  IMP-1965     304   7225              82452   7658.0\n",
       "351      EXP  EXP-2011     304   9862              86626  26966.0\n",
       "1259     JDG  JDG-1838      85    366               1148     12.0"
      ]
     },
     "execution_count": 11,
     "metadata": {},
     "output_type": "execute_result"
    }
   ],
   "source": [
    "corpus_stats = []\n",
    "\n",
    "for media in impresso_data[\"media_list\"]:\n",
    "    #if media[\"media_title\"] in media_of_interest:\n",
    "    for stat in media[\"media_statistics\"]:\n",
    "        if stat[\"granularity\"] == \"year\":\n",
    "            row = {\n",
    "                \"journal\": media[\"media_title\"],\n",
    "                \"element\": stat[\"element\"]\n",
    "            }\n",
    "            row.update(stat[\"nps_stats\"])  # add `nps_stats` keys and values as columns\n",
    "            corpus_stats.append(row)       # append the row to the list\n",
    "            \n",
    "corpus_stats = pd.DataFrame(corpus_stats)\n",
    "\n",
    "corpus_stats.sample(5)"
   ]
  },
  {
   "cell_type": "code",
   "execution_count": 12,
   "metadata": {},
   "outputs": [
    {
     "data": {
      "text/html": [
       "<div>\n",
       "<style scoped>\n",
       "    .dataframe tbody tr th:only-of-type {\n",
       "        vertical-align: middle;\n",
       "    }\n",
       "\n",
       "    .dataframe tbody tr th {\n",
       "        vertical-align: top;\n",
       "    }\n",
       "\n",
       "    .dataframe thead th {\n",
       "        text-align: right;\n",
       "    }\n",
       "</style>\n",
       "<table border=\"1\" class=\"dataframe\">\n",
       "  <thead>\n",
       "    <tr style=\"text-align: right;\">\n",
       "      <th></th>\n",
       "      <th>journal</th>\n",
       "      <th>element</th>\n",
       "      <th>issues</th>\n",
       "      <th>pages</th>\n",
       "      <th>content_items_out</th>\n",
       "      <th>images</th>\n",
       "      <th>year</th>\n",
       "      <th>decade</th>\n",
       "    </tr>\n",
       "  </thead>\n",
       "  <tbody>\n",
       "    <tr>\n",
       "      <th>4202</th>\n",
       "      <td>NV2</td>\n",
       "      <td>NV2-1871</td>\n",
       "      <td>309</td>\n",
       "      <td>1252</td>\n",
       "      <td>3270</td>\n",
       "      <td>1648.0</td>\n",
       "      <td>1871</td>\n",
       "      <td>1870</td>\n",
       "    </tr>\n",
       "    <tr>\n",
       "      <th>567</th>\n",
       "      <td>FedGazDe</td>\n",
       "      <td>FedGazDe-1860</td>\n",
       "      <td>67</td>\n",
       "      <td>1835</td>\n",
       "      <td>236</td>\n",
       "      <td>NaN</td>\n",
       "      <td>1860</td>\n",
       "      <td>1860</td>\n",
       "    </tr>\n",
       "    <tr>\n",
       "      <th>4235</th>\n",
       "      <td>esta</td>\n",
       "      <td>esta-1876</td>\n",
       "      <td>299</td>\n",
       "      <td>1367</td>\n",
       "      <td>2493</td>\n",
       "      <td>879.0</td>\n",
       "      <td>1876</td>\n",
       "      <td>1870</td>\n",
       "    </tr>\n",
       "    <tr>\n",
       "      <th>3536</th>\n",
       "      <td>luxwort</td>\n",
       "      <td>luxwort-1852</td>\n",
       "      <td>156</td>\n",
       "      <td>625</td>\n",
       "      <td>2096</td>\n",
       "      <td>NaN</td>\n",
       "      <td>1852</td>\n",
       "      <td>1850</td>\n",
       "    </tr>\n",
       "    <tr>\n",
       "      <th>1680</th>\n",
       "      <td>LCS</td>\n",
       "      <td>LCS-1830</td>\n",
       "      <td>105</td>\n",
       "      <td>420</td>\n",
       "      <td>750</td>\n",
       "      <td>1.0</td>\n",
       "      <td>1830</td>\n",
       "      <td>1830</td>\n",
       "    </tr>\n",
       "  </tbody>\n",
       "</table>\n",
       "</div>"
      ],
      "text/plain": [
       "       journal        element  issues  pages  content_items_out  images  year  \\\n",
       "4202       NV2       NV2-1871     309   1252               3270  1648.0  1871   \n",
       "567   FedGazDe  FedGazDe-1860      67   1835                236     NaN  1860   \n",
       "4235      esta      esta-1876     299   1367               2493   879.0  1876   \n",
       "3536   luxwort   luxwort-1852     156    625               2096     NaN  1852   \n",
       "1680       LCS       LCS-1830     105    420                750     1.0  1830   \n",
       "\n",
       "      decade  \n",
       "4202    1870  \n",
       "567     1860  \n",
       "4235    1870  \n",
       "3536    1850  \n",
       "1680    1830  "
      ]
     },
     "execution_count": 12,
     "metadata": {},
     "output_type": "execute_result"
    }
   ],
   "source": [
    "# split media from year and derive decade\n",
    "corpus_stats[\"year\"] = corpus_stats[\"element\"].apply(lambda x: x.split(\"-\")[1]).astype(int)\n",
    "corpus_stats[\"decade\"] = (corpus_stats[\"year\"] // 10) * 10\n",
    "corpus_stats.sample(5)"
   ]
  },
  {
   "cell_type": "markdown",
   "metadata": {},
   "source": [
    "### Sampling\n",
    "- stratified by year\n",
    "- uniform over journals within each year\n",
    "- stratified by page number within the journal"
   ]
  },
  {
   "cell_type": "code",
   "execution_count": 13,
   "metadata": {},
   "outputs": [],
   "source": [
    "# sampling function\n",
    "\n",
    "def stratified_sampling(df, N, year_col=\"year\", journal_col=\"journal\", page_col=\"page_grp\", full_corpus_stats=[]):\n",
    "    # 1 - Stratify by year: calculate proportionate number of samples per year\n",
    "    if len(full_corpus_stats) > 1:\n",
    "        print(\"Taking the full impresso corpus into consideration... \")\n",
    "        possible_years = list(set(pages_df[year_col])) # get years of interest for the project based on media of interest\n",
    "        full_corpus_stats = full_corpus_stats[full_corpus_stats[\"year\"].isin(possible_years)]\n",
    "        \n",
    "        year_counts = full_corpus_stats.groupby(year_col)[\"pages\"].sum()\n",
    "        year_counts = year_counts / year_counts.sum() # normalize the counts\n",
    "        year_samples = (year_counts * N).round().astype(int)\n",
    "    else:\n",
    "        print(\"Not taking the full impresso corpus into consideration... \")\n",
    "        year_counts = df[year_col].value_counts(normalize=True)\n",
    "        year_samples = (year_counts * N).round().astype(int)\n",
    "    \n",
    "    sampled_data = []\n",
    "    total_samples_taken = 0\n",
    "    \n",
    "    for year, num_samples_year in year_samples.items():\n",
    "        df_year = df[df[year_col] == year]\n",
    "        \n",
    "        # 2 - Uniform sampling over journals within each year\n",
    "        journals = df_year[journal_col].unique()\n",
    "        if len(journals) == 0:\n",
    "            print(f\"No journals found for year {year}. Skipping this year.\")\n",
    "            continue  # skip this year if no journals are found\n",
    "        \n",
    "        samples_per_journal = num_samples_year // len(journals)\n",
    "        remaining_samples = num_samples_year - (samples_per_journal * len(journals))\n",
    "        \n",
    "        # adjust for small journals\n",
    "        for journal in journals:\n",
    "            df_journal = df_year[df_year[journal_col] == journal]\n",
    "            \n",
    "            # if the journal has fewer entries than the required samples, take all entries\n",
    "            journal_size = len(df_journal)\n",
    "            samples_for_journal = min(samples_per_journal, journal_size)\n",
    "            \n",
    "            # if there are remaining samples (due to rounding), distribute them\n",
    "            if remaining_samples > 0:\n",
    "                samples_for_journal += 1\n",
    "                remaining_samples -= 1\n",
    "            \n",
    "            # 3 - Stratified sampling by page number within the journal\n",
    "            page_counts = df_journal[page_col].value_counts(normalize=True)\n",
    "            page_samples = (page_counts * samples_for_journal).round().astype(int)\n",
    "            \n",
    "            for page, num_samples_page in page_samples.items():\n",
    "                df_page = df_journal[df_journal[page_col] == page]\n",
    "                \n",
    "                # ensure we sample only up to the number of available rows (don't exceed available data)\n",
    "                sampled_data.append(df_page.sample(n=min(num_samples_page, len(df_page)), random_state=42))\n",
    "                total_samples_taken += min(num_samples_page, len(df_page))\n",
    "\n",
    "    # if the number of samples is less than N, sample the remaining entries randomly\n",
    "    if total_samples_taken < N:\n",
    "        remaining_samples = N - total_samples_taken\n",
    "        remaining_data = df[~df.index.isin(pd.concat(sampled_data).index)]\n",
    "        sampled_data.append(remaining_data.sample(n=remaining_samples, random_state=42))\n",
    "        \n",
    "    # combine all samples\n",
    "    return pd.concat(sampled_data).reset_index(drop=True)"
   ]
  },
  {
   "cell_type": "code",
   "execution_count": 14,
   "metadata": {},
   "outputs": [
    {
     "name": "stdout",
     "output_type": "stream",
     "text": [
      "Taking the full impresso corpus into consideration... \n"
     ]
    },
    {
     "name": "stdout",
     "output_type": "stream",
     "text": [
      "Test set length: 5,000\n",
      "Taking the full impresso corpus into consideration... \n",
      "No journals found for year 1951. Skipping this year.\n",
      "Small Train set length: 50,000\n",
      "Taking the full impresso corpus into consideration... \n",
      "No journals found for year 1951. Skipping this year.\n",
      "Large Train set length: 150,000\n"
     ]
    }
   ],
   "source": [
    "full_corpus_stats = corpus_stats[[\"pages\", \"year\", \"decade\"]]\n",
    "\n",
    "# define test set\n",
    "N = 5000\n",
    "# test_sample = stratified_sampling(pages_df, N)[[\"journal\", \"pp\"]] # comment if we want to take the whole impresso corpus into consideration\n",
    "test_sample = stratified_sampling(pages_df, N, full_corpus_stats=full_corpus_stats)[[\"journal\", \"pp\"]]\n",
    "print(f\"Test set length: {len(test_sample):,}\")\n",
    "\n",
    "# define small train-validation set\n",
    "N = 50000\n",
    "# train_small_sample = stratified_sampling(pages_df[~pages_df[\"pp\"].isin(test_sample[\"pp\"])], N)[[\"journal\", \"pp\"]]\n",
    "train_small_sample = stratified_sampling(pages_df[~pages_df[\"pp\"].isin(test_sample[\"pp\"])], N, full_corpus_stats=full_corpus_stats)[[\"journal\", \"pp\"]]\n",
    "print(f\"Small Train set length: {len(train_small_sample):,}\")\n",
    "\n",
    "# define large train-validation set\n",
    "N = 150000\n",
    "# train_large_sample = stratified_sampling(pages_df[~pages_df[\"pp\"].isin(test_sample[\"pp\"])], N)[[\"journal\", \"pp\"]]\n",
    "train_large_sample = stratified_sampling(pages_df[~pages_df[\"pp\"].isin(test_sample[\"pp\"])], N, full_corpus_stats=full_corpus_stats)[[\"journal\", \"pp\"]]\n",
    "print(f\"Large Train set length: {len(train_large_sample):,}\")"
   ]
  },
  {
   "cell_type": "code",
   "execution_count": 15,
   "metadata": {},
   "outputs": [],
   "source": [
    "# rename page column\n",
    "test_sample = test_sample.rename(columns={\"pp\": \"page_id\"})\n",
    "train_small_sample = train_small_sample.rename(columns={\"pp\": \"page_id\"})\n",
    "train_large_sample = train_large_sample.rename(columns={\"pp\": \"page_id\"})"
   ]
  },
  {
   "cell_type": "code",
   "execution_count": 16,
   "metadata": {},
   "outputs": [],
   "source": [
    "# save pages\n",
    "test_sample.to_csv(\"/scratch/students/danae/data/data_preparation/samples/pages/test.csv\", index=False)\n",
    "train_small_sample.to_csv(\"/scratch/students/danae/data/data_preparation/samples/pages/train_small.csv\", index=False)\n",
    "train_large_sample.to_csv(\"/scratch/students/danae/data/data_preparation/samples/pages/train_large.csv\", index=False)"
   ]
  },
  {
   "cell_type": "markdown",
   "metadata": {},
   "source": [
    "### Visualize sampling"
   ]
  },
  {
   "cell_type": "code",
   "execution_count": 20,
   "metadata": {},
   "outputs": [
    {
     "data": {
      "text/plain": [
       "journal\n",
       "luxland            42235\n",
       "luxwort            16036\n",
       "jdpl               12608\n",
       "obermosel           8442\n",
       "lepetitparisien     8371\n",
       "legaulois           8276\n",
       "indeplux            7866\n",
       "lematin             7180\n",
       "oeuvre              5239\n",
       "lepji               3327\n",
       "oerennes            3031\n",
       "courriergdl         2513\n",
       "oecaen              2471\n",
       "armeteufel          2055\n",
       "waechtersauer       1960\n",
       "excelsior           1788\n",
       "buergerbeamten      1772\n",
       "waeschfra           1690\n",
       "onsjongen           1530\n",
       "actionfem           1478\n",
       "lunion              1474\n",
       "deletz1893          1362\n",
       "marieclaire         1217\n",
       "dunioun             1096\n",
       "luxembourg1935      1011\n",
       "volkfreu1869         954\n",
       "lafronde             893\n",
       "diekwochen           523\n",
       "avenirgdl            461\n",
       "demitock             343\n",
       "luxzeit1858          224\n",
       "schmiede             217\n",
       "luxzeit1844          104\n",
       "gazgrdlux            101\n",
       "landwortbild          85\n",
       "kommmit               67\n",
       "Name: count, dtype: int64"
      ]
     },
     "execution_count": 20,
     "metadata": {},
     "output_type": "execute_result"
    }
   ],
   "source": [
    "train_large_sample[\"journal\"].value_counts()"
   ]
  },
  {
   "cell_type": "code",
   "execution_count": 17,
   "metadata": {},
   "outputs": [],
   "source": [
    "train_large_sample[\"year\"] = train_large_sample[\"page_id\"].apply(lambda x: int(x.split(\"-\")[1]))\n",
    "\n",
    "# group by year to get yearly counts\n",
    "yearly_counts = pages_df.groupby(\"year\").size().reset_index(name=\"count\")\n",
    "yearly_counts_sample = (\n",
    "    train_large_sample.groupby(\"year\").size().reset_index(name=\"count\")\n",
    ")\n",
    "\n",
    "# map colors to decades\n",
    "yearly_counts[\"decade\"] = (yearly_counts[\"year\"] // 10) * 10\n",
    "unique_decades = sorted(yearly_counts[\"decade\"].unique())\n",
    "\n",
    "yearly_counts_sample[\"decade\"] = (yearly_counts_sample[\"year\"] // 10) * 10\n",
    "\n",
    "# assign a distinct color to each decade using seaborn\n",
    "palette = sns.color_palette(\"tab10\", len(unique_decades))\n",
    "decade_colors = {decade: palette[i] for i, decade in enumerate(unique_decades)}\n",
    "\n",
    "# map colors to the `yearly_counts` DataFrame based on the decade\n",
    "yearly_counts[\"color\"] = yearly_counts[\"decade\"].map(decade_colors)\n",
    "yearly_counts_sample[\"color\"] = yearly_counts_sample[\"decade\"].map(decade_colors)"
   ]
  },
  {
   "cell_type": "markdown",
   "metadata": {},
   "source": [
    "#### Visualization by full corpus time sampling"
   ]
  },
  {
   "cell_type": "code",
   "execution_count": 18,
   "metadata": {},
   "outputs": [
    {
     "data": {
      "image/png": "[encoded data removed]",
      "text/plain": [
       "<Figure size 1200x600 with 1 Axes>"
      ]
     },
     "metadata": {},
     "output_type": "display_data"
    }
   ],
   "source": [
    "# plot\n",
    "plt.figure(figsize=(12, 6))\n",
    "plt.bar(\n",
    "    yearly_counts[\"year\"],\n",
    "    yearly_counts[\"count\"],\n",
    "    color=yearly_counts[\"color\"],\n",
    "    alpha=0.4,\n",
    "    label=\"Original Counts\",\n",
    ")\n",
    "plt.bar(\n",
    "    yearly_counts_sample[\"year\"],\n",
    "    yearly_counts_sample[\"count\"],\n",
    "    color=yearly_counts_sample[\"color\"],\n",
    "    label=\"Sampled Counts\",\n",
    ")\n",
    "\n",
    "# plt.yscale(\"log\")\n",
    "\n",
    "# Adding labels and legend\n",
    "plt.xlabel(\"Year\")\n",
    "plt.ylabel(\"Count\")\n",
    "plt.title(\"Number of pages selected per year - Large Training Set\")\n",
    "handles = [\n",
    "    plt.Rectangle((0, 0), 1, 1, color=decade_colors[decade])\n",
    "    for decade in unique_decades\n",
    "]\n",
    "labels = [f\"{decade}s\" for decade in unique_decades]\n",
    "plt.legend(handles, labels, title=\"Decade\")\n",
    "#plt.yscale('log')\n",
    "\n",
    "# set x-axis ticks to show only one per decade\n",
    "plt.xticks(unique_decades)\n",
    "\n",
    "plt.show()"
   ]
  },
  {
   "cell_type": "markdown",
   "metadata": {},
   "source": [
    "#### Visualization by using time sampling from dataset of interest"
   ]
  },
  {
   "cell_type": "code",
   "execution_count": 18,
   "metadata": {},
   "outputs": [
    {
     "data": {
      "image/png": "[encoded data removed]",
      "text/plain": [
       "<Figure size 1200x600 with 1 Axes>"
      ]
     },
     "metadata": {},
     "output_type": "display_data"
    }
   ],
   "source": [
    "# plot\n",
    "plt.figure(figsize=(12, 6))\n",
    "plt.bar(\n",
    "    yearly_counts[\"year\"],\n",
    "    yearly_counts[\"count\"],\n",
    "    color=yearly_counts[\"color\"],\n",
    "    alpha=0.4,\n",
    "    label=\"Original Counts\",\n",
    ")\n",
    "plt.bar(\n",
    "    yearly_counts_sample[\"year\"],\n",
    "    yearly_counts_sample[\"count\"],\n",
    "    color=yearly_counts_sample[\"color\"],\n",
    "    label=\"Sampled Counts\",\n",
    ")\n",
    "\n",
    "# plt.yscale(\"log\")\n",
    "\n",
    "# Adding labels and legend\n",
    "plt.xlabel(\"Year\")\n",
    "plt.ylabel(\"Count\")\n",
    "plt.title(\"Number of pages selected per year - Large Training Set\")\n",
    "handles = [\n",
    "    plt.Rectangle((0, 0), 1, 1, color=decade_colors[decade])\n",
    "    for decade in unique_decades\n",
    "]\n",
    "labels = [f\"{decade}s\" for decade in unique_decades]\n",
    "plt.legend(handles, labels, title=\"Decade\")\n",
    "#plt.yscale('log')\n",
    "\n",
    "# set x-axis ticks to show only one per decade\n",
    "plt.xticks(unique_decades)\n",
    "\n",
    "plt.show()"
   ]
  },
  {
   "cell_type": "code",
   "execution_count": null,
   "metadata": {},
   "outputs": [],
   "source": []
  }
 ],
 "metadata": {
  "kernelspec": {
   "display_name": "layout_seg",
   "language": "python",
   "name": "python3"
  },
  "language_info": {
   "codemirror_mode": {
    "name": "ipython",
    "version": 3
   },
   "file_extension": ".py",
   "mimetype": "text/x-python",
   "name": "python",
   "nbconvert_exporter": "python",
   "pygments_lexer": "ipython3",
   "version": "3.12.7"
  }
 },
 "nbformat": 4,
 "nbformat_minor": 2
}
